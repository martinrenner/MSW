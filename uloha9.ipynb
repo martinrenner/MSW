{
 "cells": [
  {
   "cell_type": "markdown",
   "metadata": {},
   "source": [
    "## Úloha 9 - Integrace funkce jedné proměnné"
   ]
  },
  {
   "cell_type": "markdown",
   "metadata": {},
   "source": [
    "0) Povinné importy"
   ]
  },
  {
   "cell_type": "code",
   "execution_count": 13,
   "metadata": {},
   "outputs": [],
   "source": [
    "import numpy as np\n",
    "from scipy import integrate"
   ]
  },
  {
   "cell_type": "markdown",
   "metadata": {},
   "source": [
    "1) Definice funkcí"
   ]
  },
  {
   "cell_type": "code",
   "execution_count": 14,
   "metadata": {},
   "outputs": [],
   "source": [
    "# Polynomická funkce\n",
    "def pol_fce(x):\n",
    "    return 7*x**3 + 5*x**2 + 3*x + 2\n",
    "\n",
    "# Logaritmická funkce\n",
    "def log_fce(x):\n",
    "    return np.log(7/5*x+2)\n",
    "\n",
    "# Harmonická/Goniometrická funkce\n",
    "def gon_fce(x):\n",
    "    return np.sin(x**3-0.5)"
   ]
  },
  {
   "cell_type": "markdown",
   "metadata": {},
   "source": [
    "2) Konstanty"
   ]
  },
  {
   "cell_type": "code",
   "execution_count": 15,
   "metadata": {},
   "outputs": [],
   "source": [
    "start_interval = 0\n",
    "konec_interval = 1\n",
    "krok = 0.01"
   ]
  },
  {
   "cell_type": "markdown",
   "metadata": {},
   "source": [
    "3) Numerické výpočty"
   ]
  },
  {
   "cell_type": "code",
   "execution_count": 16,
   "metadata": {},
   "outputs": [],
   "source": [
    "#adaptivni\n",
    "numeric_pol = integrate.quad(pol_fce, start_interval, konec_interval)[0]\n",
    "numeric_log = integrate.quad(log_fce, start_interval, konec_interval)[0]\n",
    "numeric_gon = integrate.quad(gon_fce, start_interval, konec_interval)[0]\n",
    "\n",
    "#lichobeznik\n",
    "# Vytvoření pole hodnot x v rozmezí s daným krokem\n",
    "x_hodnoty = np.arange(start_interval, konec_interval + krok, krok)\n",
    "\n",
    "trapezoid_pol = integrate.trapz(pol_fce(x_hodnoty), x_hodnoty)\n",
    "trapezoid_log = integrate.trapz(log_fce(x_hodnoty), x_hodnoty)\n",
    "trapezoid_gon = integrate.trapz(gon_fce(x_hodnoty), x_hodnoty)\n",
    "\n",
    "#simpson\n",
    "simpson_pol = integrate.simpson(pol_fce(x_hodnoty), x_hodnoty)\n",
    "simpson_log = integrate.simpson(log_fce(x_hodnoty), x_hodnoty)\n",
    "simpson_gon = integrate.simpson(gon_fce(x_hodnoty), x_hodnoty)\n",
    "\n",
    "#romberg\n",
    "romberg_pol = integrate.romberg(pol_fce, start_interval, konec_interval)\n",
    "romberg_log = integrate.romberg(log_fce, start_interval, konec_interval)\n",
    "romberg_gon = integrate.romberg(gon_fce, start_interval, konec_interval)"
   ]
  },
  {
   "cell_type": "markdown",
   "metadata": {},
   "source": [
    "4) Vyhodnocení"
   ]
  },
  {
   "cell_type": "code",
   "execution_count": 18,
   "metadata": {},
   "outputs": [
    {
     "name": "stdout",
     "output_type": "stream",
     "text": [
      "Polynomická funkce\n",
      "Adaptivní metoda 6.916666666666667\n",
      "Lichoběžníková metoda 6.916925\n",
      "Simpsonova metoda 6.916666666666667\n",
      "Rombergova metoda 6.916666666666667\n",
      "Logaritmická funkce\n",
      "Adaptivní metoda 0.9818157902823592\n",
      "Lichoběžníková metoda 0.9818133883291631\n",
      "Simpsonova metoda 0.9818157902520076\n",
      "Rombergova metoda 0.9818157902694467\n",
      "Goniometrická funkce\n",
      "Adaptivní metoda -0.2414643935364238\n",
      "Lichoběžníková metoda -0.24144245328374955\n",
      "Simpsonova metoda -0.24146439629036023\n",
      "Rombergova metoda -0.24146439353648358\n"
     ]
    }
   ],
   "source": [
    "def vyhodnot(nazev, numeric, trapezoid, simpson, romberg):\n",
    "    print(nazev)\n",
    "    print(\"Adaptivní metoda\", numeric)\n",
    "    print(\"Lichoběžníková metoda\", trapezoid)\n",
    "    print(\"Simpsonova metoda\", simpson)\n",
    "    print(\"Rombergova metoda\", romberg)\n",
    "\n",
    "vyhodnot(\"Polynomická funkce\", numeric_pol, trapezoid_pol, simpson_pol, romberg_pol)\n",
    "vyhodnot(\"Logaritmická funkce\", numeric_log, trapezoid_log, simpson_log, romberg_log)\n",
    "vyhodnot(\"Goniometrická funkce\", numeric_gon, trapezoid_gon, simpson_gon, romberg_gon)"
   ]
  }
 ],
 "metadata": {
  "kernelspec": {
   "display_name": "Python 3",
   "language": "python",
   "name": "python3"
  },
  "language_info": {
   "codemirror_mode": {
    "name": "ipython",
    "version": 3
   },
   "file_extension": ".py",
   "mimetype": "text/x-python",
   "name": "python",
   "nbconvert_exporter": "python",
   "pygments_lexer": "ipython3",
   "version": "3.10.6"
  },
  "orig_nbformat": 4
 },
 "nbformat": 4,
 "nbformat_minor": 2
}
