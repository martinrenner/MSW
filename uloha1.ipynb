{
 "cells": [
  {
   "cell_type": "markdown",
   "metadata": {},
   "source": [
    "## Úloha 1 - Knihovny a moduly pro matematické výpočty\n"
   ]
  },
  {
   "cell_type": "markdown",
   "metadata": {},
   "source": [
    "0) povinné importy"
   ]
  },
  {
   "cell_type": "code",
   "execution_count": 154,
   "metadata": {},
   "outputs": [],
   "source": [
    "import numpy as np\n",
    "import time as t"
   ]
  },
  {
   "cell_type": "code",
   "execution_count": 155,
   "metadata": {},
   "outputs": [],
   "source": [
    "def vyhodnot(python_start, python_konec, numpy_start, numpy_konec):\n",
    "    delka_python = python_konec - python_start\n",
    "    delka_numpy = numpy_konec - numpy_start\n",
    "    print(\"Python délka {:.10f} sekund.\".format(delka_python))\n",
    "    print(\"Numpy délka {:.10f} sekund.\".format(delka_numpy))"
   ]
  },
  {
   "cell_type": "markdown",
   "metadata": {},
   "source": [
    "1) Součet matic"
   ]
  },
  {
   "cell_type": "code",
   "execution_count": 156,
   "metadata": {},
   "outputs": [
    {
     "name": "stdout",
     "output_type": "stream",
     "text": [
      "[10, 10, 10]\n",
      "[10, 10, 10]\n",
      "[10, 10, 10]\n"
     ]
    }
   ],
   "source": [
    "#python\n",
    "def secti_matice(matice1, matice2):\n",
    "    # Zjištění rozměrů matice\n",
    "    radky = len(matice1)\n",
    "    sloupce = len(matice1[0])\n",
    "\n",
    "    # Vytvoření prázdné matice pro výsledek\n",
    "    vysledek = []\n",
    "\n",
    "    # Procházení a sečtení odpovídajících prvky z obou matic\n",
    "    for i in range(radky):\n",
    "        nova_radek = []\n",
    "        for j in range(sloupce):\n",
    "            nova_radek.append(matice1[i][j] + matice2[i][j])\n",
    "        vysledek.append(nova_radek)\n",
    "\n",
    "    return vysledek\n",
    "\n",
    "# Příklad použití\n",
    "matice_A = [[1, 2, 3], [4, 5, 6], [7, 8, 9]]\n",
    "matice_B = [[9, 8, 7], [6, 5, 4], [3, 2, 1]]\n",
    "\n",
    "python_start = t.perf_counter()\n",
    "vysledna_matice = secti_matice(matice_A, matice_B)\n",
    "python_konec = t.perf_counter()\n",
    "for radek in vysledna_matice:\n",
    "    print(radek)"
   ]
  },
  {
   "cell_type": "code",
   "execution_count": 157,
   "metadata": {},
   "outputs": [
    {
     "name": "stdout",
     "output_type": "stream",
     "text": [
      "[[10 10 10]\n",
      " [10 10 10]\n",
      " [10 10 10]]\n"
     ]
    }
   ],
   "source": [
    "#numpy\n",
    "# Definice matic jako ndarray objektů\n",
    "matice_A = np.array([[1, 2, 3], [4, 5, 6], [7, 8, 9]])\n",
    "matice_B = np.array([[9, 8, 7], [6, 5, 4], [3, 2, 1]])\n",
    "\n",
    "# Sčítání matic pomocí operátoru +\n",
    "numpy_start = t.perf_counter()\n",
    "vysledna_matice = matice_A + matice_B\n",
    "numpy_konec = t.perf_counter()\n",
    "print(vysledna_matice)"
   ]
  },
  {
   "cell_type": "code",
   "execution_count": 158,
   "metadata": {},
   "outputs": [
    {
     "name": "stdout",
     "output_type": "stream",
     "text": [
      "Python délka 0.0000342000 sekund.\n",
      "Numpy délka 0.0000388000 sekund.\n"
     ]
    }
   ],
   "source": [
    "# Vyhodnocení\n",
    "vyhodnot(python_start, python_konec, numpy_start, numpy_konec)"
   ]
  },
  {
   "cell_type": "markdown",
   "metadata": {},
   "source": [
    "2) Násobení matice konstantou"
   ]
  },
  {
   "cell_type": "code",
   "execution_count": 159,
   "metadata": {},
   "outputs": [
    {
     "name": "stdout",
     "output_type": "stream",
     "text": [
      "[2, 4, 6]\n",
      "[8, 10, 12]\n",
      "[14, 16, 18]\n"
     ]
    }
   ],
   "source": [
    "#python\n",
    "def vynasob_matici_cislem(matice, konstanta):\n",
    "    # Zjištění rozměrů matice\n",
    "    radky = len(matice)\n",
    "    sloupce = len(matice[0])\n",
    "\n",
    "    # Vytvoření prázdné matice pro výsledek\n",
    "    vysledek = []\n",
    "\n",
    "    # Procházení každého prveku v matici a vynásobení konstantou\n",
    "    for i in range(radky):\n",
    "        nova_radek = []\n",
    "        for j in range(sloupce):\n",
    "            nova_radek.append(matice[i][j] * konstanta)\n",
    "        vysledek.append(nova_radek)\n",
    "\n",
    "    return vysledek\n",
    "\n",
    "# Příklad použití\n",
    "matice_A = [[1, 2, 3], [4, 5, 6], [7, 8, 9]]\n",
    "konstanta = 2\n",
    "python_start = t.perf_counter()\n",
    "vysledna_matice = vynasob_matici_cislem(matice_A, konstanta)\n",
    "python_konec = t.perf_counter()\n",
    "for radek in vysledna_matice:\n",
    "    print(radek)"
   ]
  },
  {
   "cell_type": "code",
   "execution_count": 160,
   "metadata": {},
   "outputs": [
    {
     "name": "stdout",
     "output_type": "stream",
     "text": [
      "[[ 2  4  6]\n",
      " [ 8 10 12]\n",
      " [14 16 18]]\n"
     ]
    }
   ],
   "source": [
    "#numpy\n",
    "# Definice matice jako ndarray objektu\n",
    "matice_A = np.array([[1, 2, 3], [4, 5, 6], [7, 8, 9]])\n",
    "konstanta = 2\n",
    "\n",
    "# Vynásobení matice číslem\n",
    "numpy_start = t.perf_counter()\n",
    "vysledna_matice = matice_A * konstanta\n",
    "numpy_konec = t.perf_counter()\n",
    "\n",
    "print(vysledna_matice)"
   ]
  },
  {
   "cell_type": "code",
   "execution_count": 161,
   "metadata": {},
   "outputs": [
    {
     "name": "stdout",
     "output_type": "stream",
     "text": [
      "Python délka 0.0000329000 sekund.\n",
      "Numpy délka 0.0000462000 sekund.\n"
     ]
    }
   ],
   "source": [
    "# Vyhodnocení\n",
    "vyhodnot(python_start, python_konec, numpy_start, numpy_konec)"
   ]
  },
  {
   "cell_type": "markdown",
   "metadata": {},
   "source": [
    "3) Transpozice matice"
   ]
  },
  {
   "cell_type": "code",
   "execution_count": 162,
   "metadata": {},
   "outputs": [
    {
     "name": "stdout",
     "output_type": "stream",
     "text": [
      "[1, 4]\n",
      "[2, 5]\n",
      "[3, 6]\n"
     ]
    }
   ],
   "source": [
    "#python\n",
    "def transpozice_matice(matice):\n",
    "    # Zjištění rozměrů matice\n",
    "    radky = len(matice)\n",
    "    sloupce = len(matice[0])\n",
    "\n",
    "    # Vytvoření prázdné matice pro výsledek\n",
    "    vysledna_matice = []\n",
    "\n",
    "    # Procházení každého prvku matice a uhládání na nový index (prohozením indexu řádku a sloupce)\n",
    "    for i in range(sloupce):\n",
    "        novy_radek = []\n",
    "        for j in range(radky):\n",
    "            novy_radek.append(matice[j][i])\n",
    "        vysledna_matice.append(novy_radek)\n",
    "\n",
    "    return vysledna_matice\n",
    "\n",
    "# Příklad použití\n",
    "matice_A = [[1, 2, 3], [4, 5, 6]]\n",
    "python_start = t.perf_counter()\n",
    "vysledna_matice = transpozice_matice(matice_A)\n",
    "python_konec = t.perf_counter()\n",
    "\n",
    "for radek in vysledna_matice:\n",
    "    print(radek)"
   ]
  },
  {
   "cell_type": "code",
   "execution_count": 163,
   "metadata": {},
   "outputs": [
    {
     "name": "stdout",
     "output_type": "stream",
     "text": [
      "[[1 4]\n",
      " [2 5]\n",
      " [3 6]]\n"
     ]
    }
   ],
   "source": [
    "#numpy\n",
    "# Definice matice jako ndarray objektu\n",
    "matice_A = np.array([[1, 2, 3], [4, 5, 6]])\n",
    "\n",
    "# Transpozice matice\n",
    "numpy_start = t.perf_counter()\n",
    "vysledna_matice = np.transpose(matice_A)\n",
    "numpy_konec = t.perf_counter()\n",
    "\n",
    "print(vysledna_matice)"
   ]
  },
  {
   "cell_type": "code",
   "execution_count": 164,
   "metadata": {},
   "outputs": [
    {
     "name": "stdout",
     "output_type": "stream",
     "text": [
      "Python délka 0.0000322000 sekund.\n",
      "Numpy délka 0.0000405000 sekund.\n"
     ]
    }
   ],
   "source": [
    "# Vyhodnocení\n",
    "vyhodnot(python_start, python_konec, numpy_start, numpy_konec)"
   ]
  },
  {
   "cell_type": "markdown",
   "metadata": {},
   "source": [
    "4) Nalezení kořenu kvadratické rovnice"
   ]
  },
  {
   "cell_type": "code",
   "execution_count": 165,
   "metadata": {},
   "outputs": [
    {
     "name": "stdout",
     "output_type": "stream",
     "text": [
      "Řešení jsou: x1 = 2.0, x2 = 1.0\n"
     ]
    }
   ],
   "source": [
    "#python\n",
    "import math\n",
    "\n",
    "def solve_quadratic(a, b, c):\n",
    "    # Výpočet diskriminantu\n",
    "    discriminant = b**2 - 4*a*c\n",
    "\n",
    "    # Podmínka pro reálná řešení\n",
    "    if discriminant >= 0:\n",
    "        # Výpočet dvou řešení\n",
    "        x1 = (-b + math.sqrt(discriminant)) / (2*a)\n",
    "        x2 = (-b - math.sqrt(discriminant)) / (2*a)\n",
    "        return x1, x2\n",
    "    else:\n",
    "        # Diskriminant je záporný, nemá reálné řešení\n",
    "        return None\n",
    "\n",
    "# Příklad použití\n",
    "a = 1\n",
    "b = -3\n",
    "c = 2\n",
    "\n",
    "python_start = t.perf_counter()\n",
    "res = solve_quadratic(a, b, c)\n",
    "python_konec = t.perf_counter()\n",
    "\n",
    "if res:\n",
    "    x1, x2 = res\n",
    "    print(f\"Řešení jsou: x1 = {x1}, x2 = {x2}\")\n",
    "else:\n",
    "    print(\"Kvadratická rovnice nemá reálná řešení.\")"
   ]
  },
  {
   "cell_type": "code",
   "execution_count": 166,
   "metadata": {},
   "outputs": [
    {
     "name": "stdout",
     "output_type": "stream",
     "text": [
      "Řešení jsou: x1 = 2.0, x2 = 1.0\n"
     ]
    }
   ],
   "source": [
    "#numpy\n",
    "a = 1\n",
    "b = -3\n",
    "c = 2\n",
    "\n",
    "# Vytvoření koeficientů pro kvadratický polynom ax^2 + bx + c\n",
    "coef = [a, b, c]\n",
    "\n",
    "numpy_start = t.perf_counter()\n",
    "roots = np.roots(coef)\n",
    "numpy_konec = t.perf_counter()\n",
    "\n",
    "if len(roots) == 2:\n",
    "    x1, x2 = roots\n",
    "    print(f\"Řešení jsou: x1 = {x1}, x2 = {x2}\")\n",
    "else:\n",
    "    print(\"Kvadratická rovnice nemá reálná řešení.\")"
   ]
  },
  {
   "cell_type": "code",
   "execution_count": 167,
   "metadata": {},
   "outputs": [
    {
     "name": "stdout",
     "output_type": "stream",
     "text": [
      "Python délka 0.0000344000 sekund.\n",
      "Numpy délka 0.0002234000 sekund.\n"
     ]
    }
   ],
   "source": [
    "# Vyhodnocení\n",
    "vyhodnot(python_start, python_konec, numpy_start, numpy_konec)"
   ]
  },
  {
   "cell_type": "markdown",
   "metadata": {},
   "source": [
    "5) Výpočet průměru prvků v matici"
   ]
  },
  {
   "cell_type": "code",
   "execution_count": 168,
   "metadata": {},
   "outputs": [
    {
     "name": "stdout",
     "output_type": "stream",
     "text": [
      "Průměr prvků matice: 5.0\n"
     ]
    }
   ],
   "source": [
    "#python\n",
    "def average(matrix):\n",
    "    # Inicializace proměnných pro součet a počet prvků\n",
    "    total_sum = 0\n",
    "    count = 0\n",
    "\n",
    "    # Procházení matice\n",
    "    for row in matrix:\n",
    "        for value in row:\n",
    "            total_sum += value\n",
    "            count += 1\n",
    "\n",
    "    # Spočítání průměru\n",
    "    if count == 0:\n",
    "        return 0 \n",
    "    else:\n",
    "        return total_sum / count\n",
    "\n",
    "# Příklad použití\n",
    "matrix = [\n",
    "    [1, 2, 3],\n",
    "    [4, 5, 6],\n",
    "    [7, 8, 9]\n",
    "]\n",
    "\n",
    "python_start = t.perf_counter()\n",
    "avg = average(matrix)\n",
    "python_konec = t.perf_counter()\n",
    "\n",
    "print(\"Průměr prvků matice:\", avg)"
   ]
  },
  {
   "cell_type": "code",
   "execution_count": 169,
   "metadata": {},
   "outputs": [
    {
     "name": "stdout",
     "output_type": "stream",
     "text": [
      "Průměr prvků matice: 5.0\n"
     ]
    }
   ],
   "source": [
    "#numpy\n",
    "matrix = np.array([[1, 2, 3], [4, 5, 6], [7, 8, 9]])\n",
    "numpy_start = t.perf_counter()\n",
    "mean = np.mean(matrix)\n",
    "numpy_konec = t.perf_counter()\n",
    "print(\"Průměr prvků matice:\", mean)"
   ]
  },
  {
   "cell_type": "code",
   "execution_count": 170,
   "metadata": {},
   "outputs": [
    {
     "name": "stdout",
     "output_type": "stream",
     "text": [
      "Python délka 0.0000309000 sekund.\n",
      "Numpy délka 0.0000852000 sekund.\n"
     ]
    }
   ],
   "source": [
    "# Vyhodnocení\n",
    "vyhodnot(python_start, python_konec, numpy_start, numpy_konec)"
   ]
  }
 ],
 "metadata": {
  "kernelspec": {
   "display_name": "Python 3",
   "language": "python",
   "name": "python3"
  },
  "language_info": {
   "codemirror_mode": {
    "name": "ipython",
    "version": 3
   },
   "file_extension": ".py",
   "mimetype": "text/x-python",
   "name": "python",
   "nbconvert_exporter": "python",
   "pygments_lexer": "ipython3",
   "version": "3.10.6"
  },
  "orig_nbformat": 4
 },
 "nbformat": 4,
 "nbformat_minor": 2
}
