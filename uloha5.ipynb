{
 "cells": [
  {
   "cell_type": "markdown",
   "metadata": {},
   "source": [
    "## Úloha 5 - Hledání kořenů rovnice"
   ]
  },
  {
   "cell_type": "markdown",
   "metadata": {},
   "source": [
    "0) povinné importy"
   ]
  },
  {
   "cell_type": "code",
   "execution_count": 1,
   "metadata": {},
   "outputs": [],
   "source": [
    "import numpy as np\n",
    "import time as t\n",
    "from scipy import optimize"
   ]
  },
  {
   "cell_type": "markdown",
   "metadata": {},
   "source": [
    "1) Definice funkcí"
   ]
  },
  {
   "cell_type": "code",
   "execution_count": 2,
   "metadata": {},
   "outputs": [],
   "source": [
    "# Polynomická funkce\n",
    "def pol_fce(x):\n",
    "    return 7*x**3 + 5*x**2 + 3*x + 2\n",
    "\n",
    "# Logaritmická funkce\n",
    "def log_fce(x):\n",
    "    return np.log(7/5*x+2)\n",
    "\n",
    "# Harmonická/Goniometrická funkce\n",
    "def gon_fce(x):\n",
    "    return np.sin(x**3-0.5)\n",
    "\n",
    "def vyhodnoceni(nazev_metody, koren_bis, start_bis, konec_bis, koren_new, start_new, konec_new):\n",
    "    print(nazev_metody)\n",
    "    print(\"Kořen půlením intervalu -\", koren_bis, \", Kořen Newtonovou metodou -\", koren_new)\n",
    "    print(\"Délka půlením intervalu -\", konec_bis - start_bis, \", Délka Newtonovou metodou -\", konec_new - start_new)\n",
    "    print(\"Nalezené řešení se liší o\", abs(koren_bis - koren_new))"
   ]
  },
  {
   "cell_type": "markdown",
   "metadata": {},
   "source": [
    "2) Ohraničená metoda - půlení intervalu"
   ]
  },
  {
   "cell_type": "code",
   "execution_count": 3,
   "metadata": {},
   "outputs": [],
   "source": [
    "start_interval = -1\n",
    "konec_interval = 1\n",
    "\n",
    "pol_start_puleni = t.perf_counter()\n",
    "pol_koren_puleni = optimize.bisect(pol_fce, start_interval, konec_interval)\n",
    "pol_konec_puleni = t.perf_counter()\n",
    "\n",
    "log_start_puleni = t.perf_counter()\n",
    "log_koren_puleni = optimize.bisect(log_fce, start_interval, konec_interval)\n",
    "log_konec_puleni = t.perf_counter()\n",
    "\n",
    "gon_start_puleni = t.perf_counter()\n",
    "gon_koren_puleni = optimize.bisect(gon_fce, start_interval, konec_interval)\n",
    "gon_konec_puleni = t.perf_counter()"
   ]
  },
  {
   "cell_type": "markdown",
   "metadata": {},
   "source": [
    "3) Neohraničená metoda - Newtonova metoda"
   ]
  },
  {
   "cell_type": "code",
   "execution_count": 4,
   "metadata": {},
   "outputs": [],
   "source": [
    "start_interval = -1\n",
    "konec_interval = 1\n",
    "\n",
    "pocatecni_odhad = 0.5\n",
    "max_iteraci = 1000\n",
    "\n",
    "pol_start_newton = t.perf_counter()\n",
    "pol_koren_newton = optimize.newton(pol_fce, pocatecni_odhad, maxiter=max_iteraci)\n",
    "pol_konec_newton = t.perf_counter()\n",
    "\n",
    "log_start_newton = t.perf_counter()\n",
    "log_koren_newton = optimize.newton(log_fce, pocatecni_odhad, maxiter=max_iteraci)\n",
    "log_konec_newton = t.perf_counter()\n",
    "\n",
    "gon_start_newton = t.perf_counter()\n",
    "gon_koren_newton = optimize.newton(gon_fce, pocatecni_odhad, maxiter=max_iteraci)\n",
    "gon_konec_newton = t.perf_counter()"
   ]
  },
  {
   "cell_type": "markdown",
   "metadata": {},
   "source": [
    "4) Vyhodnocení"
   ]
  },
  {
   "cell_type": "code",
   "execution_count": 6,
   "metadata": {},
   "outputs": [
    {
     "name": "stdout",
     "output_type": "stream",
     "text": [
      "Polynomická funkce\n",
      "Kořen půlením intervalu - -0.6917885248094535 , Kořen Newtonovou metodou - -0.6917885248094606\n",
      "Délka půlením intervalu - 0.00012829999468522146 , Délka Newtonovou metodou - 0.0004890999989584088\n",
      "Nalezené řešení se liší o 7.105427357601002e-15\n",
      "Logaritmická funkce\n",
      "Kořen půlením intervalu - -0.714285714284415 , Kořen Newtonovou metodou - -0.7142857142857143\n",
      "Délka půlením intervalu - 0.00010929999552899972 , Délka Newtonovou metodou - 0.0003616999965743162\n",
      "Nalezené řešení se liší o 1.2992940057188207e-12\n",
      "Harmonická funkce\n",
      "Kořen půlením intervalu - 0.7937005259827856 , Kořen Newtonovou metodou - 0.7937005259840998\n",
      "Délka půlením intervalu - 0.0001142999972216785 , Délka Newtonovou metodou - 0.00028079999901819974\n",
      "Nalezené řešení se liší o 1.3141709942487978e-12\n"
     ]
    }
   ],
   "source": [
    "vyhodnoceni(\"Polynomická funkce\", pol_koren_puleni, pol_start_puleni, pol_konec_puleni, pol_koren_newton, pol_start_newton, pol_konec_newton)\n",
    "vyhodnoceni(\"Logaritmická funkce\", log_koren_puleni, log_start_puleni, log_konec_puleni, log_koren_newton, log_start_newton, log_konec_newton)\n",
    "vyhodnoceni(\"Harmonická funkce\", gon_koren_puleni, gon_start_puleni, gon_konec_puleni, gon_koren_newton, gon_start_newton, gon_konec_newton)"
   ]
  }
 ],
 "metadata": {
  "kernelspec": {
   "display_name": "Python 3",
   "language": "python",
   "name": "python3"
  },
  "language_info": {
   "codemirror_mode": {
    "name": "ipython",
    "version": 3
   },
   "file_extension": ".py",
   "mimetype": "text/x-python",
   "name": "python",
   "nbconvert_exporter": "python",
   "pygments_lexer": "ipython3",
   "version": "3.10.6"
  },
  "orig_nbformat": 4
 },
 "nbformat": 4,
 "nbformat_minor": 2
}
