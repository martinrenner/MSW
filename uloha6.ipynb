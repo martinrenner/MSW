{
 "cells": [
  {
   "cell_type": "markdown",
   "metadata": {},
   "source": [
    "## Úloha 6 - Generování náhodných čísel a testování generátorů"
   ]
  },
  {
   "cell_type": "markdown",
   "metadata": {},
   "source": [
    "0) Povinné importy"
   ]
  },
  {
   "cell_type": "code",
   "execution_count": 1,
   "metadata": {},
   "outputs": [],
   "source": [
    "import pyautogui\n",
    "import time\n",
    "import hashlib"
   ]
  },
  {
   "cell_type": "markdown",
   "metadata": {},
   "source": [
    "1) Generatór"
   ]
  },
  {
   "cell_type": "code",
   "execution_count": 14,
   "metadata": {},
   "outputs": [],
   "source": [
    "def generator():\n",
    "    pozice_mysi = []\n",
    "    \n",
    "    # Sběr pozic myši po určitý časový úsek (v sekundách)\n",
    "    delka = 10\n",
    "    start_cas = time.time()\n",
    "    \n",
    "    while time.time() - start_cas < delka:\n",
    "        x, y = pyautogui.position()\n",
    "        pozice_mysi.append((x, y))\n",
    "        # Čekání 0.1 sekundy mezi snímáním pozice myši\n",
    "        time.sleep(0.1)\n",
    "    \n",
    "    # Generování seminka na základě pohybu myší\n",
    "    seminko = hashlib.sha256(str(pozice_mysi).encode()).hexdigest()\n",
    "    \n",
    "    return seminko"
   ]
  },
  {
   "cell_type": "markdown",
   "metadata": {},
   "source": [
    "2) Výpis"
   ]
  },
  {
   "cell_type": "code",
   "execution_count": 18,
   "metadata": {},
   "outputs": [
    {
     "name": "stdout",
     "output_type": "stream",
     "text": [
      "Pohybujte náhodně myší po obrazovce po dobu 10 sekund.\n",
      "Vygenerovaný seed z pohybu myší: c28797f6fce063f366255976946e0a812f6d3def9f447f245254c07d7e44692c\n"
     ]
    }
   ],
   "source": [
    "# Generování a výpis semínka\n",
    "print(\"Pohybujte náhodně myší po obrazovce po dobu 10 sekund.\")\n",
    "seminko = generator()\n",
    "print(\"Vygenerovaný seed z pohybu myší:\", seminko)"
   ]
  },
  {
   "cell_type": "markdown",
   "metadata": {},
   "source": [
    "3. Ukázka nastavení vygenerovaného seedu a generování čísel"
   ]
  },
  {
   "cell_type": "code",
   "execution_count": 19,
   "metadata": {},
   "outputs": [
    {
     "name": "stdout",
     "output_type": "stream",
     "text": [
      "15\n",
      "50\n"
     ]
    }
   ],
   "source": [
    "import random\n",
    "random.seed(seminko)\n",
    "print(random.randint(0,100))\n",
    "print(random.randint(0,100))"
   ]
  }
 ],
 "metadata": {
  "kernelspec": {
   "display_name": "Python 3",
   "language": "python",
   "name": "python3"
  },
  "language_info": {
   "codemirror_mode": {
    "name": "ipython",
    "version": 3
   },
   "file_extension": ".py",
   "mimetype": "text/x-python",
   "name": "python",
   "nbconvert_exporter": "python",
   "pygments_lexer": "ipython3",
   "version": "3.10.6"
  },
  "orig_nbformat": 4
 },
 "nbformat": 4,
 "nbformat_minor": 2
}
